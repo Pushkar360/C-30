{
  "nbformat": 4,
  "nbformat_minor": 0,
  "metadata": {
    "colab": {
      "provenance": [],
      "authorship_tag": "ABX9TyMJMQ9AhJl+ZDldKz7qrZCj",
      "include_colab_link": true
    },
    "kernelspec": {
      "name": "python3",
      "display_name": "Python 3"
    },
    "language_info": {
      "name": "python"
    }
  },
  "cells": [
    {
      "cell_type": "markdown",
      "metadata": {
        "id": "view-in-github",
        "colab_type": "text"
      },
      "source": [
        "<a href=\"https://colab.research.google.com/github/Pushkar360/C-30/blob/main/skill_7_to_10.ipynb\" target=\"_parent\"><img src=\"https://colab.research.google.com/assets/colab-badge.svg\" alt=\"Open In Colab\"/></a>"
      ]
    },
    {
      "cell_type": "markdown",
      "source": [
        "exp 7 Filter method\n"
      ],
      "metadata": {
        "id": "X8ZI5gsdDeN-"
      }
    },
    {
      "cell_type": "code",
      "source": [
        "import pandas as pd\n",
        "from sklearn.feature_selection import SelectKBest, f_regression\n",
        "from sklearn.model_selection import train_test_split\n",
        "from sklearn.datasets import load_diabetes\n",
        "\n",
        "data = load_diabetes()\n",
        "X = pd.DataFrame(data.data, columns=data.feature_names)\n",
        "y = pd.DataFrame(data.target, columns=['target'])\n",
        "\n",
        "X_train, X_test, y_train, y_test = train_test_split(\n",
        "    X, y, test_size=0.2, random_state=42\n",
        ")\n",
        "\n",
        "filter_selector = SelectKBest(score_func=f_regression, k=2)\n",
        "X_selected_filter = filter_selector.fit_transform(X_train, y_train)\n",
        "\n",
        "selected_features_filter = X_train.columns[filter_selector.get_support()]\n",
        "print(\"Experiment 7 - Filter Method (Part-1) Selected Features (Regression):\", selected_features_filter.tolist())\n",
        "\n",
        "X_test_selected_filter = filter_selector.transform(X_test)\n",
        "\n",
        "print(\"Original X_test shape:\", X_test.shape)\n",
        "print(\"Selected X_test shape (Filter Method - Regression):\", X_test_selected_filter.shape)\n",
        "\n",
        "selected_test_features_filter_df = pd.DataFrame(X_test_selected_filter, columns=selected_features_filter)\n",
        "print(\"\\nExperiment 7 - Filter Method (Part-2) Selected Features in Test Set (Regression):\")\n",
        "print(selected_test_features_filter_df.head())"
      ],
      "metadata": {
        "colab": {
          "base_uri": "https://localhost:8080/"
        },
        "id": "-K2HMepVGxIB",
        "outputId": "bdafde7b-1a47-45f8-e772-76749e36dae7"
      },
      "execution_count": null,
      "outputs": [
        {
          "output_type": "stream",
          "name": "stdout",
          "text": [
            "Experiment 7 - Filter Method (Part-1) Selected Features (Regression): ['bmi', 's5']\n",
            "Original X_test shape: (89, 10)\n",
            "Selected X_test shape (Filter Method - Regression): (89, 2)\n",
            "\n",
            "Experiment 7 - Filter Method (Part-2) Selected Features in Test Set (Regression):\n",
            "        bmi        s5\n",
            "0 -0.006206  0.032432\n",
            "1  0.036907 -0.022517\n",
            "2 -0.004050  0.084492\n",
            "3  0.051996  0.098648\n",
            "4 -0.020218 -0.005142\n"
          ]
        },
        {
          "output_type": "stream",
          "name": "stderr",
          "text": [
            "/usr/local/lib/python3.11/dist-packages/sklearn/utils/validation.py:1408: DataConversionWarning: A column-vector y was passed when a 1d array was expected. Please change the shape of y to (n_samples, ), for example using ravel().\n",
            "  y = column_or_1d(y, warn=True)\n"
          ]
        }
      ]
    },
    {
      "cell_type": "markdown",
      "source": [
        "exp 8 filter method part 2"
      ],
      "metadata": {
        "id": "EwaZt8cuDlIL"
      }
    },
    {
      "cell_type": "code",
      "source": [
        "import pandas as pd\n",
        "import numpy as np\n",
        "from sklearn.feature_selection import SelectKBest, mutual_info_classif\n",
        "from sklearn.model_selection import train_test_split\n",
        "from sklearn.preprocessing import LabelEncoder\n",
        "from sklearn.datasets import load_wine\n",
        "\n",
        "data = load_wine()\n",
        "X = pd.DataFrame(data.data, columns=data.feature_names)\n",
        "y = pd.DataFrame(data.target, columns=['target'])\n",
        "\n",
        "label_encoder = LabelEncoder()\n",
        "y = label_encoder.fit_transform(y.values.ravel())\n",
        "\n",
        "X_train, X_test, y_train, y_test = train_test_split(X, y, test_size=0.2, random_state=42)\n",
        "\n",
        "filter_selector = SelectKBest(score_func=mutual_info_classif, k=3)\n",
        "X_selected_filter = filter_selector.fit_transform(X_train, y_train)\n",
        "\n",
        "selected_features_filter = X_train.columns[filter_selector.get_support()]\n",
        "print(\"Experiment 8 - Filter Method (Part-2) Selected Features:\", selected_features_filter.tolist())\n",
        "\n",
        "X_test_selected_filter = filter_selector.transform(X_test)\n",
        "\n",
        "print(\"Original X_test shape:\", X_test.shape)\n",
        "print(\"Selected X_test shape (Filter Method):\", X_test_selected_filter.shape)\n",
        "\n",
        "selected_test_features_filter_df = pd.DataFrame(X_test_selected_filter, columns=selected_features_filter)\n",
        "print(\"\\nExperiment 8 - Filter Method (Part-2) Selected Features in Test Set:\")\n",
        "print(selected_test_features_filter_df.head())"
      ],
      "metadata": {
        "colab": {
          "base_uri": "https://localhost:8080/"
        },
        "id": "SRm7TptITX3Q",
        "outputId": "72df9176-3fe9-4249-b4a2-3750343892f5"
      },
      "execution_count": null,
      "outputs": [
        {
          "output_type": "stream",
          "name": "stdout",
          "text": [
            "Experiment 8 - Filter Method (Part-2) Selected Features: ['flavanoids', 'color_intensity', 'proline']\n",
            "Original X_test shape: (36, 13)\n",
            "Selected X_test shape (Filter Method): (36, 3)\n",
            "\n",
            "Experiment 8 - Filter Method (Part-2) Selected Features in Test Set:\n",
            "   flavanoids  color_intensity  proline\n",
            "0        3.03             5.10    845.0\n",
            "1        2.65             5.24   1080.0\n",
            "2        0.50             4.60    600.0\n",
            "3        3.25             5.70   1285.0\n",
            "4        2.00             4.68    510.0\n"
          ]
        }
      ]
    },
    {
      "cell_type": "markdown",
      "source": [
        "exp 9 wrapper method"
      ],
      "metadata": {
        "id": "H1X7VDWoDrZd"
      }
    },
    {
      "cell_type": "code",
      "source": [
        "import pandas as pd\n",
        "import numpy as np\n",
        "from sklearn.feature_selection import RFE\n",
        "from sklearn.tree import DecisionTreeClassifier\n",
        "from sklearn.model_selection import train_test_split\n",
        "from sklearn.preprocessing import LabelEncoder\n",
        "from sklearn.datasets import load_breast_cancer\n",
        "\n",
        "data = load_breast_cancer()\n",
        "X = pd.DataFrame(data.data, columns=data.feature_names)\n",
        "y = pd.DataFrame(data.target, columns=['target'])\n",
        "\n",
        "label_encoder = LabelEncoder()\n",
        "y = label_encoder.fit_transform(y.values.ravel())\n",
        "\n",
        "X_train, X_test, y_train, y_test = train_test_split(X, y, test_size=0.2, random_state=42)\n",
        "\n",
        "wrapper_model = DecisionTreeClassifier()\n",
        "wrapper_selector = RFE(wrapper_model, n_features_to_select=5)\n",
        "wrapper_selector.fit(X_train, y_train)\n",
        "\n",
        "selected_features_wrapper = X_train.columns[wrapper_selector.support_]\n",
        "print(\"Experiment 9 - Wrapper Method (Part-1) Selected Features:\", selected_features_wrapper.tolist())\n",
        "\n",
        "X_test_selected_wrapper = wrapper_selector.transform(X_test)\n",
        "\n",
        "print(\"Original X_test shape:\", X_test.shape)\n",
        "print(\"Selected X_test shape (Wrapper Method):\", X_test_selected_wrapper.shape)\n",
        "\n",
        "selected_test_features_wrapper_df = pd.DataFrame(X_test_selected_wrapper, columns=selected_features_wrapper)\n",
        "print(\"\\nExperiment 9 - Wrapper Method (Part-2) Selected Features in Test Set:\")\n",
        "print(selected_test_features_wrapper_df.head())"
      ],
      "metadata": {
        "colab": {
          "base_uri": "https://localhost:8080/"
        },
        "id": "qEssw6f5T25_",
        "outputId": "0598980f-af5c-45ed-e427-956c130f41f0"
      },
      "execution_count": null,
      "outputs": [
        {
          "output_type": "stream",
          "name": "stdout",
          "text": [
            "Experiment 9 - Wrapper Method (Part-1) Selected Features: ['mean concave points', 'worst radius', 'worst texture', 'worst perimeter', 'worst concave points']\n",
            "Original X_test shape: (114, 30)\n",
            "Selected X_test shape (Wrapper Method): (114, 5)\n",
            "\n",
            "Experiment 9 - Wrapper Method (Part-2) Selected Features in Test Set:\n",
            "   mean concave points  worst radius  worst texture  worst perimeter  \\\n",
            "0              0.03821         14.97          24.64            96.05   \n",
            "1              0.07951         24.86          26.58           165.90   \n",
            "2              0.08087         19.26          26.00           124.90   \n",
            "3              0.02799         12.88          22.91            89.61   \n",
            "4              0.02594         12.26          19.68            78.78   \n",
            "\n",
            "   worst concave points  \n",
            "0               0.10150  \n",
            "1               0.17890  \n",
            "2               0.15140  \n",
            "3               0.07370  \n",
            "4               0.06918  \n"
          ]
        }
      ]
    },
    {
      "cell_type": "markdown",
      "source": [
        "exp 10 wrapper part 2"
      ],
      "metadata": {
        "id": "OroIFu4eD19N"
      }
    },
    {
      "cell_type": "code",
      "source": [
        "\n",
        "import pandas as pd\n",
        "import numpy as np\n",
        "from sklearn.feature_selection import RFE\n",
        "from sklearn.ensemble import RandomForestClassifier\n",
        "from sklearn.model_selection import train_test_split\n",
        "from sklearn.preprocessing import LabelEncoder\n",
        "from sklearn.datasets import load_diabetes\n",
        "\n",
        "data = load_diabetes()\n",
        "X = pd.DataFrame(data.data, columns=data.feature_names)\n",
        "y = pd.DataFrame(data.target, columns=['target'])\n",
        "\n",
        "label_encoder = LabelEncoder()\n",
        "y = label_encoder.fit_transform(y.values.ravel())\n",
        "\n",
        "X_train, X_test, y_train, y_test = train_test_split(X, y, test_size=0.2, random_state=42)\n",
        "\n",
        "wrapper_model = RandomForestClassifier()\n",
        "wrapper_selector = RFE(wrapper_model, n_features_to_select=5)\n",
        "wrapper_selector.fit(X_train, y_train)\n",
        "\n",
        "selected_features_wrapper = X_train.columns[wrapper_selector.support_]\n",
        "print(\"Experiment 10 - Wrapper Method (Part-2) Selected Features:\", selected_features_wrapper.tolist())\n",
        "\n",
        "X_test_selected_wrapper = wrapper_selector.transform(X_test)\n",
        "\n",
        "print(\"Original X_test shape:\", X_test.shape)\n",
        "print(\"Selected X_test shape (Wrapper Method):\", X_test_selected_wrapper.shape)\n",
        "\n",
        "selected_test_features_wrapper_df = pd.DataFrame(X_test_selected_wrapper, columns=selected_features_wrapper)\n",
        "print(\"\\nExperiment 10 - Wrapper Method (Part-2) Selected Features in Test Set:\")\n",
        "print(selected_test_features_wrapper_df.head())"
      ],
      "metadata": {
        "colab": {
          "base_uri": "https://localhost:8080/"
        },
        "id": "fdLSZLmXUYSj",
        "outputId": "d1674f9c-1632-4fbb-ae18-9154d646d037"
      },
      "execution_count": null,
      "outputs": [
        {
          "output_type": "stream",
          "name": "stdout",
          "text": [
            "Experiment 10 - Wrapper Method (Part-2) Selected Features: ['bmi', 'bp', 's2', 's5', 's6']\n",
            "Original X_test shape: (89, 10)\n",
            "Selected X_test shape (Wrapper Method): (89, 5)\n",
            "\n",
            "Experiment 10 - Wrapper Method (Part-2) Selected Features in Test Set:\n",
            "        bmi        bp        s2        s5        s6\n",
            "0 -0.006206 -0.015999  0.125198  0.032432 -0.005220\n",
            "1  0.036907  0.021872 -0.016658 -0.022517 -0.021788\n",
            "2 -0.004050 -0.012556  0.048790  0.084492 -0.017646\n",
            "3  0.051996  0.079265  0.036577  0.098648  0.061054\n",
            "4 -0.020218 -0.002228  0.053174 -0.005142 -0.009362\n"
          ]
        }
      ]
    },
    {
      "cell_type": "code",
      "source": [],
      "metadata": {
        "id": "1snbYotLUCYV"
      },
      "execution_count": null,
      "outputs": []
    }
  ]
}